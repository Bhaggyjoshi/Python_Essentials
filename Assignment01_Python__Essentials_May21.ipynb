{
  "nbformat": 4,
  "nbformat_minor": 0,
  "metadata": {
    "colab": {
      "name": "Assignment01_Python _Essentials_May21.ipynb",
      "provenance": []
    },
    "kernelspec": {
      "name": "python3",
      "display_name": "Python 3"
    },
    "language_info": {
      "name": "python"
    }
  },
  "cells": [
    {
      "cell_type": "code",
      "metadata": {
        "id": "maLtl27oMUFn"
      },
      "source": [
        "# Q1. creating two brand list\n",
        "brand_1=[\"Apple\",\"Samsung\",\"Xiaomi\",\"Moto\",\"Vivo\"]\n",
        "brand_2=[\"Apple\",\"Samsung\",\"Asus\",\"Lenovo\",\"Avita\"]"
      ],
      "execution_count": null,
      "outputs": []
    },
    {
      "cell_type": "code",
      "metadata": {
        "colab": {
          "base_uri": "https://localhost:8080/"
        },
        "id": "hL485F9xNSLb",
        "outputId": "f4180608-4610-4b89-8f3e-b6fc422e26f2"
      },
      "source": [
        "# Q2. Overlapping of two lists\n",
        "brand_1=[\"Apple\",\"Samsung\",\"Xiaomi\",\"Moto\",\"Vivo\"]\n",
        "brand_2=[\"Apple\",\"Samsung\",\"Asus\",\"Lenovo\",\"Avita\"]\n",
        "intersection=list(set(brand_1) & set(brand_2))\n",
        "print(intersection)"
      ],
      "execution_count": 4,
      "outputs": [
        {
          "output_type": "stream",
          "text": [
            "['Samsung', 'Apple']\n"
          ],
          "name": "stdout"
        }
      ]
    },
    {
      "cell_type": "code",
      "metadata": {
        "colab": {
          "base_uri": "https://localhost:8080/"
        },
        "id": "FUeioptVN-gH",
        "outputId": "47d132a5-e5b3-4ad8-bd41-9eab28010667"
      },
      "source": [
        "#Q3. print even numbers starting with 20 and ending with 40\n",
        "\n",
        "for i in range(20,41,2):\n",
        "  print(i, end=\" \")"
      ],
      "execution_count": 9,
      "outputs": [
        {
          "output_type": "stream",
          "text": [
            "20 22 24 26 28 30 32 34 36 38 40"
          ],
          "name": "stdout"
        }
      ]
    }
  ]
}
